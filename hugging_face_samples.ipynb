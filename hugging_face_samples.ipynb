{
  "nbformat": 4,
  "nbformat_minor": 0,
  "metadata": {
    "colab": {
      "provenance": [],
      "collapsed_sections": [],
      "authorship_tag": "ABX9TyM+ntHgXGsD1sIFGt2i+zkc",
      "include_colab_link": true
    },
    "kernelspec": {
      "name": "python3",
      "display_name": "Python 3"
    },
    "language_info": {
      "name": "python"
    }
  },
  "cells": [
    {
      "cell_type": "markdown",
      "metadata": {
        "id": "view-in-github",
        "colab_type": "text"
      },
      "source": [
        "<a href=\"https://colab.research.google.com/github/govardhan26/huggingFace_tutorials/blob/main/hugging_face_samples.ipynb\" target=\"_parent\"><img src=\"https://colab.research.google.com/assets/colab-badge.svg\" alt=\"Open In Colab\"/></a>"
      ]
    },
    {
      "cell_type": "markdown",
      "source": [
        "## **Hugging Face Tutorials**"
      ],
      "metadata": {
        "id": "UbG3Wvw5NbPX"
      }
    },
    {
      "cell_type": "markdown",
      "source": [
        "1. Converting english sentence to french and predicting the sentiment of the sentence:"
      ],
      "metadata": {
        "id": "9BNFE6ooNkV8"
      }
    },
    {
      "cell_type": "markdown",
      "source": [
        "For this problem, i will be using the default pipeline models available at hugging face."
      ],
      "metadata": {
        "id": "Ftv4R8VxNusk"
      }
    },
    {
      "cell_type": "markdown",
      "source": [
        "Installing hugging face library"
      ],
      "metadata": {
        "id": "4G18Q8u5N7nN"
      }
    },
    {
      "cell_type": "code",
      "source": [
        "!pip install huggingface\n",
        "!pip install transformers"
      ],
      "metadata": {
        "colab": {
          "base_uri": "https://localhost:8080/"
        },
        "id": "c3eRM33hN_nM",
        "outputId": "d44466be-f494-4eb1-900c-fdf117eff18c"
      },
      "execution_count": 8,
      "outputs": [
        {
          "output_type": "stream",
          "name": "stdout",
          "text": [
            "Looking in indexes: https://pypi.org/simple, https://us-python.pkg.dev/colab-wheels/public/simple/\n",
            "Requirement already satisfied: huggingface in /usr/local/lib/python3.7/dist-packages (0.0.1)\n",
            "Looking in indexes: https://pypi.org/simple, https://us-python.pkg.dev/colab-wheels/public/simple/\n",
            "Collecting transformers\n",
            "  Downloading transformers-4.23.1-py3-none-any.whl (5.3 MB)\n",
            "\u001b[K     |████████████████████████████████| 5.3 MB 6.9 MB/s \n",
            "\u001b[?25hRequirement already satisfied: filelock in /usr/local/lib/python3.7/dist-packages (from transformers) (3.8.0)\n",
            "Collecting tokenizers!=0.11.3,<0.14,>=0.11.1\n",
            "  Downloading tokenizers-0.13.1-cp37-cp37m-manylinux_2_17_x86_64.manylinux2014_x86_64.whl (7.6 MB)\n",
            "\u001b[K     |████████████████████████████████| 7.6 MB 42.6 MB/s \n",
            "\u001b[?25hRequirement already satisfied: regex!=2019.12.17 in /usr/local/lib/python3.7/dist-packages (from transformers) (2022.6.2)\n",
            "Requirement already satisfied: requests in /usr/local/lib/python3.7/dist-packages (from transformers) (2.23.0)\n",
            "Requirement already satisfied: numpy>=1.17 in /usr/local/lib/python3.7/dist-packages (from transformers) (1.21.6)\n",
            "Requirement already satisfied: importlib-metadata in /usr/local/lib/python3.7/dist-packages (from transformers) (5.0.0)\n",
            "Requirement already satisfied: pyyaml>=5.1 in /usr/local/lib/python3.7/dist-packages (from transformers) (6.0)\n",
            "Requirement already satisfied: tqdm>=4.27 in /usr/local/lib/python3.7/dist-packages (from transformers) (4.64.1)\n",
            "Requirement already satisfied: packaging>=20.0 in /usr/local/lib/python3.7/dist-packages (from transformers) (21.3)\n",
            "Collecting huggingface-hub<1.0,>=0.10.0\n",
            "  Downloading huggingface_hub-0.10.1-py3-none-any.whl (163 kB)\n",
            "\u001b[K     |████████████████████████████████| 163 kB 50.9 MB/s \n",
            "\u001b[?25hRequirement already satisfied: typing-extensions>=3.7.4.3 in /usr/local/lib/python3.7/dist-packages (from huggingface-hub<1.0,>=0.10.0->transformers) (4.1.1)\n",
            "Requirement already satisfied: pyparsing!=3.0.5,>=2.0.2 in /usr/local/lib/python3.7/dist-packages (from packaging>=20.0->transformers) (3.0.9)\n",
            "Requirement already satisfied: zipp>=0.5 in /usr/local/lib/python3.7/dist-packages (from importlib-metadata->transformers) (3.9.0)\n",
            "Requirement already satisfied: urllib3!=1.25.0,!=1.25.1,<1.26,>=1.21.1 in /usr/local/lib/python3.7/dist-packages (from requests->transformers) (1.24.3)\n",
            "Requirement already satisfied: idna<3,>=2.5 in /usr/local/lib/python3.7/dist-packages (from requests->transformers) (2.10)\n",
            "Requirement already satisfied: chardet<4,>=3.0.2 in /usr/local/lib/python3.7/dist-packages (from requests->transformers) (3.0.4)\n",
            "Requirement already satisfied: certifi>=2017.4.17 in /usr/local/lib/python3.7/dist-packages (from requests->transformers) (2022.9.24)\n",
            "Installing collected packages: tokenizers, huggingface-hub, transformers\n",
            "Successfully installed huggingface-hub-0.10.1 tokenizers-0.13.1 transformers-4.23.1\n"
          ]
        }
      ]
    },
    {
      "cell_type": "markdown",
      "source": [
        "Import the pipeline from transformers\n",
        "\n",
        "\n"
      ],
      "metadata": {
        "id": "jijpSoTIOEIJ"
      }
    },
    {
      "cell_type": "code",
      "source": [
        "from transformers import pipeline"
      ],
      "metadata": {
        "id": "-YihRWQlNiZO"
      },
      "execution_count": 9,
      "outputs": []
    },
    {
      "cell_type": "markdown",
      "source": [
        "Predicting the sentiment of the statement:\n",
        "\n",
        "By default the transformers use the \"distilbert-base-uncased-finetuned-sst-2-english\" model for text classifictaion and we will use the same for predicting the sentiment of the sentence as well."
      ],
      "metadata": {
        "id": "jfzCGqxDQA0w"
      }
    },
    {
      "cell_type": "code",
      "source": [
        "class hugging_face_demo:\n",
        "  def __init__(self,text):\n",
        "    self.text = text\n",
        "\n",
        "  def sentiment_analyzer(self):\n",
        "    sentiment_analyzer_ = pipeline(task=\"text-classification\",model = \"distilbert-base-uncased-finetuned-sst-2-english\")\n",
        "    sentiment_score = sentiment_analyzer_(text)\n",
        "    return f\"This is a {sentiment_score[0]['label'].lower()} statement with a confidence of {round(sentiment_score[0]['score']*100)}% .\"\n",
        "\n",
        "  def language_translator(self):\n",
        "    language_translator = pipeline(task = \"translation_en_to_fr\",model = \"t5-base\",max_length = 512)\n",
        "    translated_sentence = language_translator(text,max_length = 512)\n",
        "    return f\"Translated Text - {translated_sentence[0]['translation_text']}\"\n"
      ],
      "metadata": {
        "id": "2yLHLXigRLiM"
      },
      "execution_count": 74,
      "outputs": []
    },
    {
      "cell_type": "code",
      "source": [
        "text = input(\"Enter a sentence in english:\")\n",
        "Processer = hugging_face_demo(text)\n",
        "print(\"--***--\"*20)\n",
        "print(\"Language Translation:\")\n",
        "print(f\"Original Text - {text}\")\n",
        "print(Processer.language_translator())\n",
        "print(f\"Sentiment score : \\n{Processer.sentiment_analyzer()}\")\n",
        "print(\"--***--\"*20)\n"
      ],
      "metadata": {
        "colab": {
          "base_uri": "https://localhost:8080/"
        },
        "id": "LfcOmAciTr4T",
        "outputId": "6d2c60f8-4bae-4a7e-d1fb-d39e3cc04993"
      },
      "execution_count": 75,
      "outputs": [
        {
          "output_type": "stream",
          "name": "stdout",
          "text": [
            "Enter a sentence in english:I am haveing a very good day staying at the beach\n",
            "--***----***----***----***----***----***----***----***----***----***----***----***----***----***----***----***----***----***----***----***--\n",
            "Language Translation:\n",
            "Original Text - I am haveing a very good day staying at the beach\n",
            "Translated Text - J'ai une très bonne journée à la plage.\n",
            "Sentiment score : \n",
            "This is a positive statement with a confidence of 100% .\n",
            "--***----***----***----***----***----***----***----***----***----***----***----***----***----***----***----***----***----***----***----***--\n"
          ]
        }
      ]
    },
    {
      "cell_type": "code",
      "source": [],
      "metadata": {
        "id": "bkzKFw21T8u5"
      },
      "execution_count": 55,
      "outputs": []
    }
  ]
}